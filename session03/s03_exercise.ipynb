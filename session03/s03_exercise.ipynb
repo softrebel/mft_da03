{
 "cells": [
  {
   "cell_type": "markdown",
   "metadata": {},
   "source": [
    "# DA 03 Session 03 Exercises"
   ]
  },
  {
   "cell_type": "markdown",
   "metadata": {},
   "source": [
    "<div dir=\"rtl\">\n",
    "\n",
    "# تمرین\n",
    "\n",
    "</div>"
   ]
  },
  {
   "cell_type": "markdown",
   "metadata": {},
   "source": [
    "<div dir='rtl'>\n",
    "\n",
    "تمرین 1. آیا بردارهای زیر، مستقل خطی هستند؟ با اثبات ریاضی بررسی کنید.\n",
    "\n",
    "\n",
    "</div>\n",
    "\n",
    "$$\n",
    "\\left \\{  \\right. x=\\begin{bmatrix}\n",
    "1\\\\-1\\\\1\n",
    "\n",
    "\\end{bmatrix}\n",
    ",y=\\begin{bmatrix}\n",
    "-1\\\\-1\\\\1\n",
    "\n",
    "\\end{bmatrix}\n",
    ",z=\\begin{bmatrix}\n",
    "0\\\\1\\\\1\n",
    "\n",
    "\\end{bmatrix}\\left.  \\right \\}\n",
    "$$"
   ]
  },
  {
   "cell_type": "markdown",
   "metadata": {},
   "source": [
    "\n",
    "<div dir=\"rtl\">\n",
    "\n",
    "تمرین2. تمرین زیر که در کلاس حل شد را با استفاده یک list comprehension بازنویسی کنید.\n",
    "\n",
    "\n",
    "</div>"
   ]
  },
  {
   "cell_type": "code",
   "execution_count": 4,
   "metadata": {},
   "outputs": [
    {
     "data": {
      "text/plain": [
       "19.333333333333332"
      ]
     },
     "execution_count": 4,
     "metadata": {},
     "output_type": "execute_result"
    }
   ],
   "source": [
    "def test(string):\n",
    "    scores=0\n",
    "    # exercise -> turn it to one list comprehension\n",
    "    out = [x for line in s.split('\\n') for x in line.split(',')]\n",
    "    items=[int(x) for x in out[1::3]]\n",
    "    count=len(items)\n",
    "    scores=sum(items)\n",
    "    return scores/count\n",
    "\n",
    "s='alireza,19,20\\nsara,19,19\\ntina,20,17'\n",
    "test(s)"
   ]
  },
  {
   "cell_type": "markdown",
   "metadata": {},
   "source": [
    "\n",
    "<div dir=\"rtl\">\n",
    "\n",
    "\n",
    "تمرین 3. تابعی بنویسید که رشته‌ای مانند بصورت \"2+3\" بگیرد و جمع را انجام دهد. عملیات‌های قابل قبولی شامل +,-,/,* است.\n",
    "\n",
    "\n",
    "</div>"
   ]
  },
  {
   "cell_type": "markdown",
   "metadata": {},
   "source": [
    "\n",
    "<div dir=\"rtl\">\n",
    "\n",
    "\n",
    "تمرین 4. تابعی بنویسید که یک رشته شامل کاراکترهای الفبا را بعنوان آرگومان ورودی بگیرد و پرتکرارترین کاراکتر را برگرداند. فاصله های خالی را نادیده بگیرید، بعنوان مثال، هیچ فاصله خالی را بعنوان یک کاراکتر شمارش نکنید. توجه داشته باشید که یک کاراکتر حرف کوچک، برابر با یک کاراکتر حرف بزرگ است. درصورت تساوی بین کاراکترهای معین، آخرین کاراکتر که بیشترین تکرار را دارد برگرداند.\n",
    "\n",
    "\n",
    "</div>"
   ]
  },
  {
   "cell_type": "markdown",
   "metadata": {},
   "source": [
    "<div dir=\"rtl\">\n",
    "\n",
    "# تحقیق\n",
    "\n",
    "</div>"
   ]
  },
  {
   "cell_type": "markdown",
   "metadata": {},
   "source": [
    "<div dir=\"rtl\">\n",
    "\n",
    "1. مفهوم ضرب داخلی\n",
    "\n",
    "2. نوع داده‌ای مجموعه (Set) در پایتون\n",
    "\n",
    "</div>"
   ]
  },
  {
   "cell_type": "markdown",
   "metadata": {},
   "source": [
    "<div dir=\"rtl\">\n",
    "\n",
    "# نحوه ارسال\n",
    "\n",
    "فایل exercise.ipynb را ویرایش کرده و جواب هر سوال را در یک بلاک زیر همان تمرین یا تحقیق اضافه کنید.\n",
    "\n",
    "در انتها فایل تمرین را با قالب نام‌گذاری زیر، ایمیل کنید:\n",
    "\n",
    "DA03_E03_[first_name]_[last_name].ipynb\n",
    "\n",
    "\n",
    "\n",
    "</div>"
   ]
  }
 ],
 "metadata": {
  "kernelspec": {
   "display_name": "Python 3",
   "language": "python",
   "name": "python3"
  },
  "language_info": {
   "codemirror_mode": {
    "name": "ipython",
    "version": 3
   },
   "file_extension": ".py",
   "mimetype": "text/x-python",
   "name": "python",
   "nbconvert_exporter": "python",
   "pygments_lexer": "ipython3",
   "version": "3.11.1"
  }
 },
 "nbformat": 4,
 "nbformat_minor": 2
}
